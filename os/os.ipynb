{
 "cells": [
  {
   "cell_type": "code",
   "execution_count": 2,
   "id": "01bef655",
   "metadata": {},
   "outputs": [],
   "source": [
    "import os\n",
    "\n"
   ]
  },
  {
   "cell_type": "code",
   "execution_count": 3,
   "id": "4a9c7182",
   "metadata": {},
   "outputs": [
    {
     "name": "stdout",
     "output_type": "stream",
     "text": [
      "c:\\Users\\rasht\\OneDrive\\Desktop\\data science\\os\n"
     ]
    }
   ],
   "source": [
    "file=os.getcwd()\n",
    "print(file)"
   ]
  },
  {
   "cell_type": "code",
   "execution_count": 6,
   "id": "37b8f047",
   "metadata": {},
   "outputs": [],
   "source": [
    "file=os.listdir(r\"c:\\Users\\rasht\\OneDrive\\Desktop\\data science\\python\")"
   ]
  },
  {
   "cell_type": "code",
   "execution_count": 5,
   "id": "bad68f33",
   "metadata": {},
   "outputs": [
    {
     "data": {
      "text/plain": [
       "['basic.py',\n",
       " 'conditional.ipynb',\n",
       " 'constructer.ipynb',\n",
       " 'demo.txt',\n",
       " 'Encapsulation.ipynb',\n",
       " 'exception.ipynb',\n",
       " 'file_handling.ipynb',\n",
       " 'function.ipynb',\n",
       " 'global.ipynb',\n",
       " 'looping.ipynb',\n",
       " 'oops.ipynb',\n",
       " 'polymorphism.ipynb',\n",
       " 'raffles.txt',\n",
       " 'txt.txt']"
      ]
     },
     "execution_count": 5,
     "metadata": {},
     "output_type": "execute_result"
    }
   ],
   "source": [
    "path=r\"c:\\Users\\rasht\\OneDrive\\Desktop\\data science\\python\"\n",
    "os.listdir(path)"
   ]
  },
  {
   "cell_type": "code",
   "execution_count": 7,
   "id": "c11babda",
   "metadata": {},
   "outputs": [
    {
     "name": "stdout",
     "output_type": "stream",
     "text": [
      "folder created\n"
     ]
    }
   ],
   "source": [
    "import os\n",
    "os.mkdir(\"test\")\n",
    "print(\"folder created\")"
   ]
  },
  {
   "cell_type": "code",
   "execution_count": 13,
   "id": "684b1bd4",
   "metadata": {},
   "outputs": [
    {
     "name": "stdout",
     "output_type": "stream",
     "text": [
      "folder is created\n"
     ]
    }
   ],
   "source": [
    "import os\n",
    "os.mkdir(\"ajay\")\n",
    "print(\"folder is created\")"
   ]
  },
  {
   "cell_type": "code",
   "execution_count": 16,
   "id": "5ddf3bb8",
   "metadata": {},
   "outputs": [
    {
     "data": {
      "text/plain": [
       "['ajay', 'bhavishya', 'os.ipynb', 'test']"
      ]
     },
     "execution_count": 16,
     "metadata": {},
     "output_type": "execute_result"
    }
   ],
   "source": [
    "import os \n",
    "os.listdir(os.getcwd())\n"
   ]
  },
  {
   "cell_type": "code",
   "execution_count": 9,
   "id": "2c8855fb",
   "metadata": {},
   "outputs": [
    {
     "name": "stdout",
     "output_type": "stream",
     "text": [
      "folder renamed\n"
     ]
    }
   ],
   "source": [
    "os.rename(\"test\",\"datascience\")\n",
    "print(\"folder renamed\")"
   ]
  },
  {
   "cell_type": "code",
   "execution_count": 19,
   "id": "677a2cf1",
   "metadata": {},
   "outputs": [
    {
     "name": "stdout",
     "output_type": "stream",
     "text": [
      "file is renamed\n"
     ]
    }
   ],
   "source": [
    "os.rename(\"gaurav\",\"ajay\")\n",
    "print(\"file is renamed\")"
   ]
  },
  {
   "cell_type": "code",
   "execution_count": 10,
   "id": "7847ab36",
   "metadata": {},
   "outputs": [
    {
     "name": "stdout",
     "output_type": "stream",
     "text": [
      "folder deleted\n"
     ]
    }
   ],
   "source": [
    "os.rmdir(\"datascience\")\n",
    "print(\"folder deleted\")"
   ]
  },
  {
   "cell_type": "code",
   "execution_count": 21,
   "id": "de75c1f2",
   "metadata": {},
   "outputs": [
    {
     "name": "stdout",
     "output_type": "stream",
     "text": [
      "folder is deleted\n"
     ]
    }
   ],
   "source": [
    "os.rmdir(\"ajay\")\n",
    "print(\"folder is deleted\")"
   ]
  },
  {
   "cell_type": "code",
   "execution_count": 11,
   "id": "43246eaa",
   "metadata": {},
   "outputs": [
    {
     "data": {
      "text/plain": [
       "['os.ipynb']"
      ]
     },
     "execution_count": 11,
     "metadata": {},
     "output_type": "execute_result"
    }
   ],
   "source": [
    "os.listdir(os.getcwd())"
   ]
  },
  {
   "cell_type": "code",
   "execution_count": 22,
   "id": "cd5374ee",
   "metadata": {},
   "outputs": [
    {
     "data": {
      "text/plain": [
       "['bhavishya', 'os.ipynb', 'test']"
      ]
     },
     "execution_count": 22,
     "metadata": {},
     "output_type": "execute_result"
    }
   ],
   "source": [
    "os.listdir(os.getcwd())"
   ]
  },
  {
   "cell_type": "code",
   "execution_count": 12,
   "id": "45580f7a",
   "metadata": {},
   "outputs": [],
   "source": [
    "#os.remove(\"file name\")"
   ]
  },
  {
   "cell_type": "code",
   "execution_count": 14,
   "id": "57a325d9",
   "metadata": {},
   "outputs": [
    {
     "data": {
      "text/plain": [
       "'c:\\\\Users\\\\rasht\\\\OneDrive\\\\Desktop\\\\data science\\\\os'"
      ]
     },
     "execution_count": 14,
     "metadata": {},
     "output_type": "execute_result"
    }
   ],
   "source": [
    "os.getcwd()"
   ]
  },
  {
   "cell_type": "code",
   "execution_count": 23,
   "id": "abd9741e",
   "metadata": {},
   "outputs": [
    {
     "data": {
      "text/plain": [
       "'c:\\\\Users\\\\rasht\\\\OneDrive\\\\Desktop\\\\data science\\\\os'"
      ]
     },
     "execution_count": 23,
     "metadata": {},
     "output_type": "execute_result"
    }
   ],
   "source": [
    "os.getcwd()"
   ]
  },
  {
   "cell_type": "code",
   "execution_count": 17,
   "id": "bb952157",
   "metadata": {},
   "outputs": [],
   "source": [
    "path=r\"c:\\\\Users\\\\rasht\\\\OneDrive\\\\Desktop\\\\data science\\\\os\""
   ]
  },
  {
   "cell_type": "code",
   "execution_count": null,
   "id": "22438292",
   "metadata": {},
   "outputs": [
    {
     "name": "stdout",
     "output_type": "stream",
     "text": [
      "\n"
     ]
    }
   ],
   "source": [
    "path=r\"c:\\\\Users\\\\rasht\\\\OneDrive\\\\Desktop\\\\data science\\\\os\"\n",
    "path=os.environ.get(path)\n",
    "print(\"\")"
   ]
  },
  {
   "cell_type": "code",
   "execution_count": 19,
   "id": "247ff558",
   "metadata": {},
   "outputs": [
    {
     "data": {
      "text/plain": [
       "False"
      ]
     },
     "execution_count": 19,
     "metadata": {},
     "output_type": "execute_result"
    }
   ],
   "source": [
    "#system command\n",
    "path=r\"c:\\\\Users\\\\rasht\\\\OneDrive\\\\Desktop\\\\data science\\\\os\"\n",
    "os.path.isfile(path)\n",
    "\n",
    "\n",
    "\n",
    "\n",
    "\n",
    "\n",
    "\n",
    "\n",
    "\n",
    "\n",
    "\n"
   ]
  },
  {
   "cell_type": "code",
   "execution_count": 20,
   "id": "6c852a7b",
   "metadata": {},
   "outputs": [
    {
     "data": {
      "text/plain": [
       "True"
      ]
     },
     "execution_count": 20,
     "metadata": {},
     "output_type": "execute_result"
    }
   ],
   "source": [
    "path=r\"c:\\\\Users\\\\rasht\\\\OneDrive\\\\Desktop\\\\data science\\\\os\"\n",
    "os.path.isdir(path)"
   ]
  },
  {
   "cell_type": "code",
   "execution_count": 21,
   "id": "8efeafd4",
   "metadata": {},
   "outputs": [
    {
     "name": "stdout",
     "output_type": "stream",
     "text": [
      "C:\\Users\\rasht\\OneDrive\\Desktop\\data science\\python\n"
     ]
    },
    {
     "data": {
      "text/plain": [
       "['basic.py',\n",
       " 'conditional.ipynb',\n",
       " 'constructer.ipynb',\n",
       " 'demo.txt',\n",
       " 'Encapsulation.ipynb',\n",
       " 'exception.ipynb',\n",
       " 'file_handling.ipynb',\n",
       " 'function.ipynb',\n",
       " 'global.ipynb',\n",
       " 'looping.ipynb',\n",
       " 'oops.ipynb',\n",
       " 'polymorphism.ipynb',\n",
       " 'raffles.txt',\n",
       " 'txt.txt']"
      ]
     },
     "execution_count": 21,
     "metadata": {},
     "output_type": "execute_result"
    }
   ],
   "source": [
    "path1=r\"c:\\\\Users\\\\rasht\\\\OneDrive\\\\Desktop\\\\data science\\\\os\"\n",
    "path2=r\"C:\\Users\\rasht\\OneDrive\\Desktop\\data science\\python\"\n",
    "complete_path=os.path.join(path1,path2)\n",
    "print(complete_path)\n",
    "os.listdir(complete_path)"
   ]
  },
  {
   "cell_type": "code",
   "execution_count": 22,
   "id": "8efd355c",
   "metadata": {},
   "outputs": [
    {
     "name": "stdout",
     "output_type": "stream",
     "text": [
      "size of the file(in bytes):- 4096\n"
     ]
    }
   ],
   "source": [
    "path=r\"c:\\\\Users\\\\rasht\\\\OneDrive\\\\Desktop\\\\data science\\\\os\"\n",
    "size=os.path.getsize(path)\n",
    "print(\"size of the file(in bytes):-\",size)"
   ]
  },
  {
   "cell_type": "code",
   "execution_count": 24,
   "id": "317064f9",
   "metadata": {},
   "outputs": [
    {
     "name": "stdout",
     "output_type": "stream",
     "text": [
      "before dir c:\\Users\\rasht\\OneDrive\\Desktop\\data science\\os\n",
      "after dir C:\\Users\\rasht\\OneDrive\\Desktop\\data science\\python\n"
     ]
    }
   ],
   "source": [
    "print(\"before dir\",os.getcwd())\n",
    "os.chdir(r\"C:\\Users\\rasht\\OneDrive\\Desktop\\data science\\python\")\n",
    "print(\"after dir\",os.getcwd())"
   ]
  },
  {
   "cell_type": "code",
   "execution_count": null,
   "id": "9c8abbe3",
   "metadata": {},
   "outputs": [],
   "source": []
  }
 ],
 "metadata": {
  "kernelspec": {
   "display_name": "Python 3",
   "language": "python",
   "name": "python3"
  },
  "language_info": {
   "codemirror_mode": {
    "name": "ipython",
    "version": 3
   },
   "file_extension": ".py",
   "mimetype": "text/x-python",
   "name": "python",
   "nbconvert_exporter": "python",
   "pygments_lexer": "ipython3",
   "version": "3.11.5"
  }
 },
 "nbformat": 4,
 "nbformat_minor": 5
}
