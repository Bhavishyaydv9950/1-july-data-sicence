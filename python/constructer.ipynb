{
 "cells": [
  {
   "cell_type": "code",
   "execution_count": null,
   "id": "ee79d665",
   "metadata": {},
   "outputs": [
    {
     "ename": "TypeError",
     "evalue": "student() takes no arguments",
     "output_type": "error",
     "traceback": [
      "\u001b[31m---------------------------------------------------------------------------\u001b[39m",
      "\u001b[31mTypeError\u001b[39m                                 Traceback (most recent call last)",
      "\u001b[36mCell\u001b[39m\u001b[36m \u001b[39m\u001b[32mIn[11]\u001b[39m\u001b[32m, line 7\u001b[39m\n\u001b[32m      4\u001b[39m         \u001b[38;5;28mself\u001b[39m.name=name\n\u001b[32m      5\u001b[39m         \u001b[38;5;28mself\u001b[39m.age=age\n\u001b[32m----> \u001b[39m\u001b[32m7\u001b[39m obj_st =\u001b[43mstudent\u001b[49m\u001b[43m(\u001b[49m\u001b[43mname\u001b[49m\u001b[43m=\u001b[49m\u001b[33;43m\"\u001b[39;49m\u001b[33;43mritik\u001b[39;49m\u001b[33;43m\"\u001b[39;49m\u001b[43m,\u001b[49m\u001b[43m \u001b[49m\u001b[43mage\u001b[49m\u001b[43m=\u001b[49m\u001b[32;43m22\u001b[39;49m\u001b[43m)\u001b[49m\n\u001b[32m      9\u001b[39m obj_st.name\n",
      "\u001b[31mTypeError\u001b[39m: student() takes no arguments"
     ]
    }
   ],
   "source": [
    "###constructor\n",
    "class student:\n",
    "    def _init_(self,name,age):\n",
    "        self.name=name\n",
    "        self.age=age\n",
    "     \n",
    "obj_st =student(name\")\n",
    "\n",
    "\n",
    "          \n"
   ]
  },
  {
   "cell_type": "code",
   "execution_count": null,
   "id": "4b9ae976",
   "metadata": {},
   "outputs": [],
   "source": [
    "class student:\n",
    "    def _init_(self,name,age,address):\n",
    "        self.name=name\n",
    "        self.age=age\n",
    "        self.address=address\n",
    "\n",
    "        def display(self):\n",
    "            print(f\"my name is (self.name) and my age is(self.age)and my address is(self.address)\")\n",
    "\n",
    "        obj_st=student(name=\"ritik\",age=22,address=\"kukas\")\n",
    "\n",
    "\n"
   ]
  },
  {
   "cell_type": "code",
   "execution_count": 15,
   "id": "30042866",
   "metadata": {},
   "outputs": [
    {
     "ename": "NameError",
     "evalue": "name 'obj_st' is not defined",
     "output_type": "error",
     "traceback": [
      "\u001b[31m---------------------------------------------------------------------------\u001b[39m",
      "\u001b[31mNameError\u001b[39m                                 Traceback (most recent call last)",
      "\u001b[36mCell\u001b[39m\u001b[36m \u001b[39m\u001b[32mIn[15]\u001b[39m\u001b[32m, line 1\u001b[39m\n\u001b[32m----> \u001b[39m\u001b[32m1\u001b[39m \u001b[43mobj_st\u001b[49m.display()\n",
      "\u001b[31mNameError\u001b[39m: name 'obj_st' is not defined"
     ]
    }
   ],
   "source": [
    "obj_st.display()"
   ]
  },
  {
   "cell_type": "code",
   "execution_count": null,
   "id": "a60e250c",
   "metadata": {},
   "outputs": [],
   "source": [
    "# class bank:\n",
    "# constructer\n",
    "# init method\n",
    "# _init\n",
    "# account number\n",
    "# phone number\n",
    "# ṃethod\n",
    "# deposite\n",
    "# withdraw\n",
    "# total balance\n",
    "\n"
   ]
  },
  {
   "cell_type": "code",
   "execution_count": 19,
   "id": "4fb2c665",
   "metadata": {},
   "outputs": [],
   "source": [
    "class bank:\n",
    "      def _init_(self,name,age,account_number,phone_number,address,amount):\n",
    "        self.name=name\n",
    "        self.age=age\n",
    "        self.address=address\n",
    "        self._account_number=account_number\n",
    "        self.phone_number=phone_number\n",
    "        self.amount=amount\n",
    "      def deposit(self,amount):\n",
    "          self.amount=self.amount+amount\n",
    "          \n",
    "\n",
    "      \n",
    "      \n"
   ]
  },
  {
   "cell_type": "code",
   "execution_count": null,
   "id": "bc408542",
   "metadata": {},
   "outputs": [
    {
     "name": "stdout",
     "output_type": "stream",
     "text": [
      "Account created successfully for Ravi Kumar\n",
      "---- Account Details ----\n",
      "Name: Ravi Kumar\n",
      "Account Number: 1234567890\n",
      "Phone Number: 9876543210\n",
      "Address: Delhi, India\n",
      "Balance: ₹500\n",
      "₹200 deposited successfully. New Balance: ₹700\n",
      "\n",
      "₹150 withdrawn successfully. Remaining Balance: ₹550\n",
      "---- Account Details ----\n",
      "Name: Ravi Kumar\n",
      "Account Number: 1234567890\n",
      "Phone Number: 9876543210\n",
      "Address: Delhi, India\n",
      "Balance: ₹550\n"
     ]
    }
   ],
   "source": [
    "class BankAccount:\n",
    "    def __init__(self, holder_name, account_number, phone_number, address, balance=0):\n",
    "        self.holder_name = holder_name\n",
    "        self.account_number = account_number\n",
    "        self.phone_number = phone_number\n",
    "        self.address = address\n",
    "        self.balance = balance\n",
    "        print(f\"Account created successfully for {self.holder_name}\")\n",
    "\n",
    "    def show_details(self):\n",
    "      \n",
    "        print(f\"Name: {self.holder_name}\")\n",
    "        print(f\"Account Number: {self.account_number}\")\n",
    "        print(f\"Phone Number: {self.phone_number}\")\n",
    "        print(f\"Address: {self.address}\")\n",
    "        print(f\"Balance: ₹{self.balance}\")\n",
    "\n",
    "    def deposit(self, amount):\n",
    "        if amount > 0:\n",
    "            self.balance += amount\n",
    "            print(f\"₹{amount} deposited successfully. New Balance: ₹{self.balance}\\n\")\n",
    "        else:\n",
    "            print(\"Invalid deposit amount\")\n",
    "\n",
    "    def withdraw(self, amount):\n",
    "        if amount <= 0:\n",
    "            print(\"Invalid withdrawal amount\")\n",
    "        elif amount > self.balance:\n",
    "            print(\"Insufficient balance\")\n",
    "        else:\n",
    "            self.balance -= amount\n",
    "            print(f\"₹{amount} withdrawn successfully. Remaining Balance: ₹{self.balance}\")\n",
    "\n",
    "# Example usage\n",
    "account1 = BankAccount(\"Ravi Kumar\", \"1234567890\", \"9876543210\", \"Delhi, India\", 500)\n",
    "account1.show_details()\n",
    "account1.deposit(200)\n",
    "account1.withdraw(150)\n",
    "account1.show_details()\n"
   ]
  },
  {
   "cell_type": "code",
   "execution_count": null,
   "id": "a2545938",
   "metadata": {},
   "outputs": [],
   "source": []
  },
  {
   "cell_type": "code",
   "execution_count": null,
   "id": "d42e9844",
   "metadata": {},
   "outputs": [],
   "source": []
  }
 ],
 "metadata": {
  "kernelspec": {
   "display_name": "Python 3",
   "language": "python",
   "name": "python3"
  },
  "language_info": {
   "codemirror_mode": {
    "name": "ipython",
    "version": 3
   },
   "file_extension": ".py",
   "mimetype": "text/x-python",
   "name": "python",
   "nbconvert_exporter": "python",
   "pygments_lexer": "ipython3",
   "version": "3.11.5"
  }
 },
 "nbformat": 4,
 "nbformat_minor": 5
}
