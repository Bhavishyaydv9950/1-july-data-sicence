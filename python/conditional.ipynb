{
 "cells": [
  {
   "cell_type": "code",
   "execution_count": null,
   "id": "e4c9db7b",
   "metadata": {},
   "outputs": [
    {
     "data": {
      "text/plain": [
       "10"
      ]
     },
     "execution_count": 1,
     "metadata": {},
     "output_type": "execute_result"
    }
   ],
   "source": [
    "a=10\n",
    "a"
   ]
  },
  {
   "cell_type": "code",
   "execution_count": 6,
   "id": "ae3b329c",
   "metadata": {},
   "outputs": [
    {
     "data": {
      "text/plain": [
       "20"
      ]
     },
     "execution_count": 6,
     "metadata": {},
     "output_type": "execute_result"
    }
   ],
   "source": [
    "b=20\n",
    "b"
   ]
  },
  {
   "cell_type": "code",
   "execution_count": 2,
   "id": "6a6b35f4",
   "metadata": {},
   "outputs": [
    {
     "name": "stdout",
     "output_type": "stream",
     "text": [
      "largest number is 66\n"
     ]
    }
   ],
   "source": [
    "a=int(input(\"enter 1st number:\"))\n",
    "b=int(input(\"enter 2nd number:\"))\n",
    "if a>b:\n",
    "    print(\"largest number is\",a)\n",
    "\n",
    "else:\n",
    "    print(\"largest number is\",b)\n"
   ]
  },
  {
   "cell_type": "code",
   "execution_count": null,
   "id": "8639cf98",
   "metadata": {},
   "outputs": [
    {
     "name": "stdout",
     "output_type": "stream",
     "text": [
      "number is odd\n"
     ]
    }
   ],
   "source": [
    "# Find even,odd number\n",
    "num=int(input(\"enter the number\"))\n",
    "if num % 2 ==0:\n",
    "    print(\"number is even\")\n",
    "else:\n",
    "    print(\"number is odd\")\n"
   ]
  },
  {
   "cell_type": "code",
   "execution_count": 7,
   "id": "6fed4fed",
   "metadata": {},
   "outputs": [
    {
     "name": "stdout",
     "output_type": "stream",
     "text": [
      "year is not leap\n"
     ]
    }
   ],
   "source": [
    "# to find leap year\n",
    "year=int(input(\"enter the year\"))\n",
    "if(year % 4 ==0 and year % 100 !=0) or (year % 400 ==0):\n",
    "    print(\"year is leap\")\n",
    "else:\n",
    "    print(\"year is not leap\")\n",
    "     "
   ]
  },
  {
   "cell_type": "code",
   "execution_count": 9,
   "id": "b11d81b6",
   "metadata": {},
   "outputs": [
    {
     "name": "stdout",
     "output_type": "stream",
     "text": [
      "fail\n"
     ]
    }
   ],
   "source": [
    "# grade marks\n",
    "marks=int(input(\"enter the marks\"))\n",
    "if (marks>=90):\n",
    "    print(\"A\")\n",
    "elif(90>=marks>=70):\n",
    "    print(\"B\")\n",
    "elif(70>=marks>=50):\n",
    "    print(\"C\")\n",
    "else:\n",
    "    print(\"fail\")\n"
   ]
  },
  {
   "cell_type": "code",
   "execution_count": 13,
   "id": "f9e92009",
   "metadata": {},
   "outputs": [
    {
     "name": "stdout",
     "output_type": "stream",
     "text": [
      "largest number is c\n"
     ]
    }
   ],
   "source": [
    "# find the largets number in three number\n",
    "a=int(input(\"enter the number\"))\n",
    "b= int(input(\"enter the number\"))\n",
    "c=int(input(\"enter the number\"))\n",
    "if (a>b or a>c):\n",
    "    print(\"largest number is a\")\n",
    "elif(b>a or b>c):\n",
    "    print(\"largest number is b\")\n",
    "elif(c>a or c>b):\n",
    "    print(\"largest number is c\")\n"
   ]
  },
  {
   "cell_type": "code",
   "execution_count": 19,
   "id": "75a2bf51",
   "metadata": {},
   "outputs": [
    {
     "name": "stdout",
     "output_type": "stream",
     "text": [
      "invalid colour\n"
     ]
    }
   ],
   "source": [
    "# traffic light\n",
    "color=input(\"enter the color(red,yellow,green)\")\n",
    "\n",
    "if color=='red':\n",
    "    print(\"stop\")\n",
    "elif color=='yellow':\n",
    "    print(\"wait\")\n",
    "elif color=='green':\n",
    "    print(\"Go\")\n",
    "else:\n",
    "    print(\"invalid colour\")\n",
    "    \n"
   ]
  },
  {
   "cell_type": "code",
   "execution_count": null,
   "id": "154324fa",
   "metadata": {},
   "outputs": [],
   "source": []
  }
 ],
 "metadata": {
  "kernelspec": {
   "display_name": "Python 3",
   "language": "python",
   "name": "python3"
  },
  "language_info": {
   "codemirror_mode": {
    "name": "ipython",
    "version": 3
   },
   "file_extension": ".py",
   "mimetype": "text/x-python",
   "name": "python",
   "nbconvert_exporter": "python",
   "pygments_lexer": "ipython3",
   "version": "3.11.5"
  }
 },
 "nbformat": 4,
 "nbformat_minor": 5
}
