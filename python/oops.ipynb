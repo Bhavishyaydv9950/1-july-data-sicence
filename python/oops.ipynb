{
 "cells": [
  {
   "cell_type": "code",
   "execution_count": 1,
   "id": "b89b5272",
   "metadata": {},
   "outputs": [],
   "source": [
    "###opps concept"
   ]
  },
  {
   "cell_type": "code",
   "execution_count": null,
   "id": "5037831e",
   "metadata": {},
   "outputs": [],
   "source": [
    "class Class_name:\n",
    "    pass\n"
   ]
  },
  {
   "cell_type": "code",
   "execution_count": 3,
   "id": "9bfbf617",
   "metadata": {},
   "outputs": [
    {
     "name": "stdout",
     "output_type": "stream",
     "text": [
      "my name is ritik my age is 20\n"
     ]
    }
   ],
   "source": [
    "class Student:\n",
    "    name =\"ritik\"\n",
    "    age=20\n",
    "    print(f\"my name is {name} my age is {age}\")\n",
    "obj_st=Student()\n",
    "\n"
   ]
  },
  {
   "cell_type": "code",
   "execution_count": 5,
   "id": "602ebe81",
   "metadata": {},
   "outputs": [
    {
     "data": {
      "text/plain": [
       "'ritik'"
      ]
     },
     "execution_count": 5,
     "metadata": {},
     "output_type": "execute_result"
    }
   ],
   "source": [
    "obj_st.name"
   ]
  },
  {
   "cell_type": "code",
   "execution_count": 6,
   "id": "c235ffbd",
   "metadata": {},
   "outputs": [
    {
     "data": {
      "text/plain": [
       "20"
      ]
     },
     "execution_count": 6,
     "metadata": {},
     "output_type": "execute_result"
    }
   ],
   "source": [
    "obj_st.age"
   ]
  },
  {
   "cell_type": "code",
   "execution_count": 3,
   "id": "2be55604",
   "metadata": {},
   "outputs": [],
   "source": [
    "class student:\n",
    "    name= \"ritik\"\n",
    "    age=20\n",
    "\n",
    "    def info(self):\n",
    "        print(\"this is my first method\")\n",
    "        print(\"how are you all\")\n",
    "\n",
    "dt_obj=student()\n",
    "        "
   ]
  },
  {
   "cell_type": "code",
   "execution_count": 4,
   "id": "24e03fdd",
   "metadata": {},
   "outputs": [
    {
     "name": "stdout",
     "output_type": "stream",
     "text": [
      "this is my first method\n",
      "how are you all\n"
     ]
    }
   ],
   "source": [
    "dt_obj.info()\n"
   ]
  },
  {
   "cell_type": "code",
   "execution_count": null,
   "id": "c7fd3783",
   "metadata": {},
   "outputs": [],
   "source": [
    "class student:\n",
    "    name= \"ritik\"\n",
    "    age=20\n",
    "\n",
    "    def info(self):\n",
    "        print(f'my name is {self.name} and the age is{self.age}')\n",
    "\n",
    "    dt_obj=student()\n",
    "\n"
   ]
  },
  {
   "cell_type": "code",
   "execution_count": 10,
   "id": "7055999c",
   "metadata": {},
   "outputs": [
    {
     "name": "stdout",
     "output_type": "stream",
     "text": [
      "my name is ritik and the age is20\n"
     ]
    }
   ],
   "source": [
    "dt_obj.info()"
   ]
  },
  {
   "cell_type": "code",
   "execution_count": 11,
   "id": "fbaddde6",
   "metadata": {},
   "outputs": [],
   "source": [
    "###inheritance"
   ]
  },
  {
   "cell_type": "markdown",
   "id": "9d0fd8f6",
   "metadata": {},
   "source": []
  },
  {
   "cell_type": "code",
   "execution_count": 12,
   "id": "af16b66e",
   "metadata": {},
   "outputs": [],
   "source": [
    "# types\n",
    "# single\n",
    "# multiple\n",
    "# multilevel\n",
    "# hierarchical\n",
    "# hybrid\n"
   ]
  },
  {
   "cell_type": "code",
   "execution_count": null,
   "id": "fc0c31b7",
   "metadata": {},
   "outputs": [],
   "source": [
    "# single\n"
   ]
  }
 ],
 "metadata": {
  "kernelspec": {
   "display_name": "Python 3",
   "language": "python",
   "name": "python3"
  },
  "language_info": {
   "codemirror_mode": {
    "name": "ipython",
    "version": 3
   },
   "file_extension": ".py",
   "mimetype": "text/x-python",
   "name": "python",
   "nbconvert_exporter": "python",
   "pygments_lexer": "ipython3",
   "version": "3.11.5"
  }
 },
 "nbformat": 4,
 "nbformat_minor": 5
}
