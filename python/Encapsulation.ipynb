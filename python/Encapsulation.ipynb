{
 "cells": [
  {
   "cell_type": "code",
   "execution_count": 1,
   "id": "d1a9e522",
   "metadata": {},
   "outputs": [],
   "source": [
    "###Encapsulation"
   ]
  },
  {
   "cell_type": "code",
   "execution_count": 8,
   "id": "7c5a4aed",
   "metadata": {},
   "outputs": [],
   "source": [
    "#private\n",
    "# public\n",
    "# protected\n",
    "class student:\n",
    "    __name=\"ritik\"#private\n",
    "    age=26 #public\n",
    "    _id='1234'#protected\n",
    "st_obj=student()\n"
   ]
  },
  {
   "cell_type": "code",
   "execution_count": 3,
   "id": "b623accc",
   "metadata": {},
   "outputs": [
    {
     "data": {
      "text/plain": [
       "26"
      ]
     },
     "execution_count": 3,
     "metadata": {},
     "output_type": "execute_result"
    }
   ],
   "source": [
    "st_obj.age"
   ]
  },
  {
   "cell_type": "code",
   "execution_count": 9,
   "id": "53e24161",
   "metadata": {},
   "outputs": [
    {
     "ename": "AttributeError",
     "evalue": "'student' object has no attribute '__name'",
     "output_type": "error",
     "traceback": [
      "\u001b[31m---------------------------------------------------------------------------\u001b[39m",
      "\u001b[31mAttributeError\u001b[39m                            Traceback (most recent call last)",
      "\u001b[36mCell\u001b[39m\u001b[36m \u001b[39m\u001b[32mIn[9]\u001b[39m\u001b[32m, line 1\u001b[39m\n\u001b[32m----> \u001b[39m\u001b[32m1\u001b[39m \u001b[43mst_obj\u001b[49m\u001b[43m.\u001b[49m\u001b[43m__name\u001b[49m\n",
      "\u001b[31mAttributeError\u001b[39m: 'student' object has no attribute '__name'"
     ]
    }
   ],
   "source": [
    "st_obj.__name"
   ]
  },
  {
   "cell_type": "code",
   "execution_count": 10,
   "id": "6b6b9a5b",
   "metadata": {},
   "outputs": [
    {
     "data": {
      "text/plain": [
       "'1234'"
      ]
     },
     "execution_count": 10,
     "metadata": {},
     "output_type": "execute_result"
    }
   ],
   "source": [
    "st_obj._id"
   ]
  },
  {
   "cell_type": "code",
   "execution_count": null,
   "id": "1b8a9710",
   "metadata": {},
   "outputs": [],
   "source": [
    "# task\n",
    "# bank name classs and save account number (private)\n",
    "# acount holder name \n",
    "# balance\n",
    "class account:\n",
    "    accountname='bhavishya'\n",
    "    __number='1234'\n",
    "    _balance='1024'\n",
    "    phonenumber=6375749027\n",
    "\n",
    "st_obj=account()\n"
   ]
  },
  {
   "cell_type": "code",
   "execution_count": 20,
   "id": "490d233e",
   "metadata": {},
   "outputs": [
    {
     "ename": "AttributeError",
     "evalue": "'account' object has no attribute '__accountnumber'",
     "output_type": "error",
     "traceback": [
      "\u001b[31m---------------------------------------------------------------------------\u001b[39m",
      "\u001b[31mAttributeError\u001b[39m                            Traceback (most recent call last)",
      "\u001b[36mCell\u001b[39m\u001b[36m \u001b[39m\u001b[32mIn[20]\u001b[39m\u001b[32m, line 1\u001b[39m\n\u001b[32m----> \u001b[39m\u001b[32m1\u001b[39m \u001b[43mst_obj\u001b[49m\u001b[43m.\u001b[49m\u001b[43m__accountnumber\u001b[49m\n",
      "\u001b[31mAttributeError\u001b[39m: 'account' object has no attribute '__accountnumber'"
     ]
    }
   ],
   "source": [
    "st_obj.__accountnumber\n"
   ]
  },
  {
   "cell_type": "code",
   "execution_count": 31,
   "id": "45b97743",
   "metadata": {},
   "outputs": [
    {
     "data": {
      "text/plain": [
       "'bhavishya'"
      ]
     },
     "execution_count": 31,
     "metadata": {},
     "output_type": "execute_result"
    }
   ],
   "source": [
    "st_obj.accountname"
   ]
  },
  {
   "cell_type": "code",
   "execution_count": 38,
   "id": "242de216",
   "metadata": {},
   "outputs": [
    {
     "ename": "AttributeError",
     "evalue": "'account' object has no attribute '_balance'",
     "output_type": "error",
     "traceback": [
      "\u001b[31m---------------------------------------------------------------------------\u001b[39m",
      "\u001b[31mAttributeError\u001b[39m                            Traceback (most recent call last)",
      "\u001b[36mCell\u001b[39m\u001b[36m \u001b[39m\u001b[32mIn[38]\u001b[39m\u001b[32m, line 1\u001b[39m\n\u001b[32m----> \u001b[39m\u001b[32m1\u001b[39m \u001b[43mst_obj\u001b[49m\u001b[43m.\u001b[49m\u001b[43m_balance\u001b[49m\n",
      "\u001b[31mAttributeError\u001b[39m: 'account' object has no attribute '_balance'"
     ]
    }
   ],
   "source": [
    "st_obj._balance"
   ]
  },
  {
   "cell_type": "code",
   "execution_count": null,
   "id": "f2b7fe05",
   "metadata": {},
   "outputs": [],
   "source": [
    "# class\n",
    "# method\n",
    "# inheritance\n"
   ]
  },
  {
   "cell_type": "code",
   "execution_count": 41,
   "id": "9695c7c5",
   "metadata": {},
   "outputs": [],
   "source": [
    "class BankAccount:\n",
    "    def __init__(self, account_number, name, address, phone, initial_balance=0):\n",
    "        self.__account_number = account_number  # Private\n",
    "        self.name = name\n",
    "        self.address = address\n",
    "        self.phone = phone\n",
    "        self.balance = initial_balance\n",
    "\n",
    "    # Method to deposit money\n",
    "    def deposit(self, amount):\n",
    "        if amount > 0:\n",
    "            self.balance += amount\n",
    "            print(f\"₹{amount} deposited successfully. New balance: ₹{self.balance}\")\n",
    "        else:\n",
    "            print(\"Deposit amount must be positive.\")\n",
    "\n",
    "    # Method to withdraw money\n",
    "    def withdraw(self, amount):\n",
    "        if amount <= 0:\n",
    "            print(\"Withdrawal amount must be positive.\")\n",
    "        elif amount > self.balance:\n",
    "            print(\"Insufficient balance.\")\n",
    "        else:\n",
    "            self.balance -= amount\n",
    "            print(f\"₹{amount} withdrawn successfully. New balance: ₹{self.balance}\")\n",
    "\n",
    "    # Method to show total balance\n",
    "    def show_balance(self):\n",
    "        print(f\"{self.name}, your current balance is: ₹{self.balance}\")\n",
    "\n",
    "    # Method to display full account details\n",
    "    def show_account_info(self):\n",
    "        print(\"----- Account Information -----\")\n",
    "        print(f\"Account Number: {self.__account_number}\")\n",
    "        print(f\"Name          : {self.name}\")\n",
    "        print(f\"Address       : {self.address}\")\n",
    "        print(f\"Phone         : {self.phone}\")\n",
    "        print(f\"Balance       : ₹{self.balance}\")\n",
    "        print(\"--------------------------------\")\n",
    "\n",
    "\n"
   ]
  },
  {
   "cell_type": "code",
   "execution_count": null,
   "id": "bb499605",
   "metadata": {},
   "outputs": [],
   "source": [
    "# task\n",
    "# super function\n",
    "# bmi calculator through class \n"
   ]
  },
  {
   "cell_type": "code",
   "execution_count": null,
   "id": "fe6a11c9",
   "metadata": {},
   "outputs": [],
   "source": []
  },
  {
   "cell_type": "code",
   "execution_count": null,
   "id": "3ca93f80",
   "metadata": {},
   "outputs": [],
   "source": []
  }
 ],
 "metadata": {
  "kernelspec": {
   "display_name": "Python 3",
   "language": "python",
   "name": "python3"
  },
  "language_info": {
   "codemirror_mode": {
    "name": "ipython",
    "version": 3
   },
   "file_extension": ".py",
   "mimetype": "text/x-python",
   "name": "python",
   "nbconvert_exporter": "python",
   "pygments_lexer": "ipython3",
   "version": "3.11.5"
  }
 },
 "nbformat": 4,
 "nbformat_minor": 5
}
