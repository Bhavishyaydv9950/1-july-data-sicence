{
 "cells": [
  {
   "cell_type": "code",
   "execution_count": 2,
   "id": "9ad89f8b",
   "metadata": {},
   "outputs": [],
   "source": [
    "\n",
    "try:\n",
    "     pass #main code\n",
    "except:\n",
    "    pass #error handler\n",
    "else:\n",
    "    pass #multiple error\n",
    "finally:\n",
    "    pass #koi chale tho chale mai to chaluga\n"
   ]
  },
  {
   "cell_type": "code",
   "execution_count": 6,
   "id": "a357759b",
   "metadata": {},
   "outputs": [
    {
     "name": "stdout",
     "output_type": "stream",
     "text": [
      "272\n"
     ]
    }
   ],
   "source": [
    "try:\n",
    "    a=int(input(\"enter the number\"))\n",
    "    b=int(input(\"enter second number\"))\n",
    "    print(a*b)\n",
    "except valueError as e:\n",
    "    print(\"invalid input\",e)"
   ]
  },
  {
   "cell_type": "code",
   "execution_count": 5,
   "id": "4f36dbb1",
   "metadata": {},
   "outputs": [],
   "source": [
    "#error in python with example\n"
   ]
  },
  {
   "cell_type": "code",
   "execution_count": 8,
   "id": "ba7e50c5",
   "metadata": {},
   "outputs": [
    {
     "name": "stdout",
     "output_type": "stream",
     "text": [
      "division by zero\n"
     ]
    }
   ],
   "source": [
    "try:\n",
    "    a=int(input(\"enter the number\"))\n",
    "    b=int(input(\"enter second number\"))\n",
    "    print(a/b)\n",
    "except Exception as e:\n",
    "    print(e)"
   ]
  },
  {
   "cell_type": "code",
   "execution_count": 9,
   "id": "472e0a28",
   "metadata": {},
   "outputs": [
    {
     "name": "stdout",
     "output_type": "stream",
     "text": [
      "7.5\n",
      "no error\n",
      "1080\n",
      "koi chale tho chale\n"
     ]
    }
   ],
   "source": [
    "try:\n",
    "    a=int(input(\"enter the number\"))\n",
    "    b=int(input(\"enter second number\"))\n",
    "    print(a/b)\n",
    "except Exception as e:\n",
    "    print(e)\n",
    "else:\n",
    "    print(\"no error\")\n",
    "    print(a*b)\n",
    "finally:\n",
    "    print(\"koi chale tho chale\")"
   ]
  },
  {
   "cell_type": "code",
   "execution_count": 10,
   "id": "907459a0",
   "metadata": {},
   "outputs": [
    {
     "name": "stdout",
     "output_type": "stream",
     "text": [
      "final_result:- 0.9230769230769231\n",
      "thanks for using our service\n"
     ]
    }
   ],
   "source": [
    "try:\n",
    "    num1=int(input(\"enter a number\"))\n",
    "    num2=int(input(\"enter second number\"))\n",
    "    result=num1/num2\n",
    "except ZeroDivisionError as e:\n",
    "    print(e)\n",
    "except ValueError as e:\n",
    "    print(e)\n",
    "except Exception as e:\n",
    "    print(e)\n",
    "else:\n",
    "    print(\"final_result:-\",result)\n",
    "finally:\n",
    "    print(\"thanks for using our service\")\n",
    "    \n",
    "\n"
   ]
  },
  {
   "cell_type": "code",
   "execution_count": null,
   "id": "c24b31dc",
   "metadata": {},
   "outputs": [],
   "source": []
  }
 ],
 "metadata": {
  "kernelspec": {
   "display_name": "Python 3",
   "language": "python",
   "name": "python3"
  },
  "language_info": {
   "codemirror_mode": {
    "name": "ipython",
    "version": 3
   },
   "file_extension": ".py",
   "mimetype": "text/x-python",
   "name": "python",
   "nbconvert_exporter": "python",
   "pygments_lexer": "ipython3",
   "version": "3.11.5"
  }
 },
 "nbformat": 4,
 "nbformat_minor": 5
}
