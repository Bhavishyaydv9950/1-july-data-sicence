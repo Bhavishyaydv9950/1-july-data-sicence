{
 "cells": [
  {
   "cell_type": "markdown",
   "id": "6232ddd1",
   "metadata": {},
   "source": [
    "Global variable"
   ]
  },
  {
   "cell_type": "code",
   "execution_count": null,
   "id": "3b7caff8",
   "metadata": {},
   "outputs": [
    {
     "name": "stdout",
     "output_type": "stream",
     "text": [
      "hello bhavishya\n",
      "outside function: bhavishya\n"
     ]
    }
   ],
   "source": [
    "name=\"bhavishya\"\n",
    "def greet():\n",
    " print(\"hello\",name)\n",
    "greet()\n",
    "print(\"outside function:\",name)"
   ]
  },
  {
   "cell_type": "markdown",
   "id": "de8f493d",
   "metadata": {},
   "source": []
  },
  {
   "cell_type": "code",
   "execution_count": 5,
   "id": "ae828540",
   "metadata": {},
   "outputs": [
    {
     "name": "stdout",
     "output_type": "stream",
     "text": [
      "count is 34\n"
     ]
    }
   ],
   "source": [
    "count=0\n",
    "def increment():\n",
    "      global count                  \n",
    "      count +=34\n",
    "increment()\n",
    "print(\"count is\",count)"
   ]
  },
  {
   "cell_type": "markdown",
   "id": "fac58d5c",
   "metadata": {},
   "source": [
    "Local variable"
   ]
  },
  {
   "cell_type": "code",
   "execution_count": 6,
   "id": "ef09364a",
   "metadata": {},
   "outputs": [
    {
     "name": "stdout",
     "output_type": "stream",
     "text": [
      "hello bhavishya\n"
     ]
    }
   ],
   "source": [
    "def greet():\n",
    " \n",
    "    name=\"bhavishya\"\n",
    "    print(\"hello\",name)\n",
    "greet()"
   ]
  },
  {
   "cell_type": "code",
   "execution_count": null,
   "id": "98ddd1d6",
   "metadata": {},
   "outputs": [],
   "source": []
  }
 ],
 "metadata": {
  "kernelspec": {
   "display_name": "Python 3",
   "language": "python",
   "name": "python3"
  },
  "language_info": {
   "codemirror_mode": {
    "name": "ipython",
    "version": 3
   },
   "file_extension": ".py",
   "mimetype": "text/x-python",
   "name": "python",
   "nbconvert_exporter": "python",
   "pygments_lexer": "ipython3",
   "version": "3.11.5"
  }
 },
 "nbformat": 4,
 "nbformat_minor": 5
}
