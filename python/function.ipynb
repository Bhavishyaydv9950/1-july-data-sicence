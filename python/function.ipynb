{
 "cells": [
  {
   "cell_type": "code",
   "execution_count": 1,
   "id": "e39f77d3",
   "metadata": {},
   "outputs": [],
   "source": [
    "# function\n",
    "def function_name():\n",
    " pass\n"
   ]
  },
  {
   "cell_type": "code",
   "execution_count": 2,
   "id": "2318c69d",
   "metadata": {},
   "outputs": [],
   "source": [
    "def function_name():\n",
    "    pass\n",
    "function_name()\n"
   ]
  },
  {
   "cell_type": "code",
   "execution_count": 18,
   "id": "b059600f",
   "metadata": {},
   "outputs": [
    {
     "name": "stdout",
     "output_type": "stream",
     "text": [
      "hello\n"
     ]
    }
   ],
   "source": [
    "def display ():\n",
    "    print(\"hello\")\n",
    "display()\n",
    "    "
   ]
  },
  {
   "cell_type": "code",
   "execution_count": null,
   "id": "507088a5",
   "metadata": {},
   "outputs": [],
   "source": []
  },
  {
   "cell_type": "code",
   "execution_count": 19,
   "id": "7fd98e72",
   "metadata": {},
   "outputs": [
    {
     "name": "stdout",
     "output_type": "stream",
     "text": [
      "30\n"
     ]
    }
   ],
   "source": [
    "def add(a,b):\n",
    "    print(a+b)\n",
    "add(10,20)"
   ]
  },
  {
   "cell_type": "code",
   "execution_count": null,
   "id": "86cafb3e",
   "metadata": {},
   "outputs": [],
   "source": [
    "def display(name,age,adress=\"jaipur\"):\n",
    "    print(f\"my name is {name} and my {age} i am from {adress}\")\n",
    "display()\n",
    "        \n",
    "        \n"
   ]
  },
  {
   "cell_type": "code",
   "execution_count": 20,
   "id": "6b9a0efa",
   "metadata": {},
   "outputs": [
    {
     "ename": "NameError",
     "evalue": "name 'diplay' is not defined",
     "output_type": "error",
     "traceback": [
      "\u001b[31m---------------------------------------------------------------------------\u001b[39m",
      "\u001b[31mNameError\u001b[39m                                 Traceback (most recent call last)",
      "\u001b[36mCell\u001b[39m\u001b[36m \u001b[39m\u001b[32mIn[20]\u001b[39m\u001b[32m, line 1\u001b[39m\n\u001b[32m----> \u001b[39m\u001b[32m1\u001b[39m \u001b[43mdiplay\u001b[49m(\u001b[33m\"\u001b[39m\u001b[33mritik\u001b[39m\u001b[33m\"\u001b[39m,\u001b[32m22\u001b[39m)\n",
      "\u001b[31mNameError\u001b[39m: name 'diplay' is not defined"
     ]
    }
   ],
   "source": [
    "diplay(\"ritik\",22)"
   ]
  },
  {
   "cell_type": "code",
   "execution_count": 10,
   "id": "07a9d22d",
   "metadata": {},
   "outputs": [],
   "source": [
    "# user define function\n",
    "# pre define function\n",
    "\n"
   ]
  },
  {
   "cell_type": "code",
   "execution_count": 11,
   "id": "7a45cd2c",
   "metadata": {},
   "outputs": [],
   "source": [
    "# lamda function\n",
    "# lambda>>>>>>keyword\n",
    "# lamda is annoymous function\n",
    "# it is used for one line function\n"
   ]
  },
  {
   "cell_type": "code",
   "execution_count": 13,
   "id": "a17ad364",
   "metadata": {},
   "outputs": [
    {
     "data": {
      "text/plain": [
       "30"
      ]
     },
     "execution_count": 13,
     "metadata": {},
     "output_type": "execute_result"
    }
   ],
   "source": [
    "add=lambda a,b:a+b \n",
    "add(10,20)"
   ]
  },
  {
   "cell_type": "code",
   "execution_count": 14,
   "id": "8fed9a4b",
   "metadata": {},
   "outputs": [
    {
     "data": {
      "text/plain": [
       "100"
      ]
     },
     "execution_count": 14,
     "metadata": {},
     "output_type": "execute_result"
    }
   ],
   "source": [
    "square=lambda a:a**2\n",
    "square(10)"
   ]
  },
  {
   "cell_type": "code",
   "execution_count": null,
   "id": "f2f48cf2",
   "metadata": {},
   "outputs": [],
   "source": []
  }
 ],
 "metadata": {
  "kernelspec": {
   "display_name": "Python 3",
   "language": "python",
   "name": "python3"
  },
  "language_info": {
   "codemirror_mode": {
    "name": "ipython",
    "version": 3
   },
   "file_extension": ".py",
   "mimetype": "text/x-python",
   "name": "python",
   "nbconvert_exporter": "python",
   "pygments_lexer": "ipython3",
   "version": "3.11.5"
  }
 },
 "nbformat": 4,
 "nbformat_minor": 5
}
